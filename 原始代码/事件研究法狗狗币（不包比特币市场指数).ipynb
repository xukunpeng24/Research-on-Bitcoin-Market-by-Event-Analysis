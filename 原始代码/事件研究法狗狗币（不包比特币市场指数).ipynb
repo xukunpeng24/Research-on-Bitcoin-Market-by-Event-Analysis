{
 "cells": [
  {
   "cell_type": "markdown",
   "metadata": {},
   "source": [
    "# 事件研究法"
   ]
  },
  {
   "cell_type": "code",
   "execution_count": 115,
   "metadata": {},
   "outputs": [],
   "source": [
    "import pandas as pd\n",
    "import numpy as np\n",
    "import matplotlib.pyplot as plt\n",
    "import datetime\n",
    "import seaborn as sns\n",
    "from scipy import stats\n"
   ]
  },
  {
   "cell_type": "code",
   "execution_count": 116,
   "metadata": {},
   "outputs": [],
   "source": [
    "sns.set_palette(\"Set2\")\n",
    "sns.set_style('whitegrid')\n",
    "plt.rcParams['font.sans-serif']=['SimHei'] #用来正常显示中文标签\n",
    "plt.rcParams['axes.unicode_minus']=False #用来正常显示负号"
   ]
  },
  {
   "cell_type": "code",
   "execution_count": 117,
   "metadata": {},
   "outputs": [],
   "source": [
    "events = ['2021-01-28','2021-05-09']"
   ]
  },
  {
   "cell_type": "code",
   "execution_count": 118,
   "metadata": {},
   "outputs": [],
   "source": [
    "p1 = \"含比特币的加密货币市值.xlsx\"\n",
    "p2 = \"狗狗币.xlsx\""
   ]
  },
  {
   "cell_type": "code",
   "execution_count": 119,
   "metadata": {},
   "outputs": [],
   "source": [
    "df_index = pd.read_excel(p1)\n",
    "df = pd.read_excel(p2)"
   ]
  },
  {
   "cell_type": "code",
   "execution_count": 120,
   "metadata": {},
   "outputs": [],
   "source": [
    "df_index = df_index[['Date', 'pct_chg']].copy()\n",
    "df_index.columns = ['trade_date', '数字货币市场收益率']"
   ]
  },
  {
   "cell_type": "code",
   "execution_count": 121,
   "metadata": {},
   "outputs": [],
   "source": [
    "df = df[['Date', '收益率']].copy()\n",
    "df.columns = ['trade_date', '狗狗币收益率']"
   ]
  },
  {
   "cell_type": "code",
   "execution_count": 122,
   "metadata": {},
   "outputs": [],
   "source": [
    "df_final = df.merge(df_index, on='trade_date', how='left')"
   ]
  },
  {
   "cell_type": "code",
   "execution_count": 123,
   "metadata": {},
   "outputs": [
    {
     "data": {
      "text/html": [
       "<div>\n",
       "<style scoped>\n",
       "    .dataframe tbody tr th:only-of-type {\n",
       "        vertical-align: middle;\n",
       "    }\n",
       "\n",
       "    .dataframe tbody tr th {\n",
       "        vertical-align: top;\n",
       "    }\n",
       "\n",
       "    .dataframe thead th {\n",
       "        text-align: right;\n",
       "    }\n",
       "</style>\n",
       "<table border=\"1\" class=\"dataframe\">\n",
       "  <thead>\n",
       "    <tr style=\"text-align: right;\">\n",
       "      <th></th>\n",
       "      <th>trade_date</th>\n",
       "      <th>狗狗币收益率</th>\n",
       "      <th>数字货币市场收益率</th>\n",
       "    </tr>\n",
       "  </thead>\n",
       "  <tbody>\n",
       "    <tr>\n",
       "      <th>0</th>\n",
       "      <td>2020-08-23</td>\n",
       "      <td>NaN</td>\n",
       "      <td>NaN</td>\n",
       "    </tr>\n",
       "    <tr>\n",
       "      <th>1</th>\n",
       "      <td>2020-08-24</td>\n",
       "      <td>0.003441</td>\n",
       "      <td>0.012078</td>\n",
       "    </tr>\n",
       "    <tr>\n",
       "      <th>2</th>\n",
       "      <td>2020-08-25</td>\n",
       "      <td>-0.030442</td>\n",
       "      <td>-0.026528</td>\n",
       "    </tr>\n",
       "    <tr>\n",
       "      <th>3</th>\n",
       "      <td>2020-08-26</td>\n",
       "      <td>-0.008612</td>\n",
       "      <td>-0.003059</td>\n",
       "    </tr>\n",
       "    <tr>\n",
       "      <th>4</th>\n",
       "      <td>2020-08-27</td>\n",
       "      <td>-0.019634</td>\n",
       "      <td>-0.008055</td>\n",
       "    </tr>\n",
       "    <tr>\n",
       "      <th>...</th>\n",
       "      <td>...</td>\n",
       "      <td>...</td>\n",
       "      <td>...</td>\n",
       "    </tr>\n",
       "    <tr>\n",
       "      <th>295</th>\n",
       "      <td>2021-06-14</td>\n",
       "      <td>0.031395</td>\n",
       "      <td>0.057080</td>\n",
       "    </tr>\n",
       "    <tr>\n",
       "      <th>296</th>\n",
       "      <td>2021-06-15</td>\n",
       "      <td>-0.016339</td>\n",
       "      <td>0.011552</td>\n",
       "    </tr>\n",
       "    <tr>\n",
       "      <th>297</th>\n",
       "      <td>2021-06-16</td>\n",
       "      <td>-0.032352</td>\n",
       "      <td>-0.032510</td>\n",
       "    </tr>\n",
       "    <tr>\n",
       "      <th>298</th>\n",
       "      <td>2021-06-17</td>\n",
       "      <td>-0.015733</td>\n",
       "      <td>-0.017551</td>\n",
       "    </tr>\n",
       "    <tr>\n",
       "      <th>299</th>\n",
       "      <td>2021-06-18</td>\n",
       "      <td>-0.040148</td>\n",
       "      <td>-0.020258</td>\n",
       "    </tr>\n",
       "  </tbody>\n",
       "</table>\n",
       "<p>300 rows × 3 columns</p>\n",
       "</div>"
      ],
      "text/plain": [
       "    trade_date    狗狗币收益率  数字货币市场收益率\n",
       "0   2020-08-23       NaN        NaN\n",
       "1   2020-08-24  0.003441   0.012078\n",
       "2   2020-08-25 -0.030442  -0.026528\n",
       "3   2020-08-26 -0.008612  -0.003059\n",
       "4   2020-08-27 -0.019634  -0.008055\n",
       "..         ...       ...        ...\n",
       "295 2021-06-14  0.031395   0.057080\n",
       "296 2021-06-15 -0.016339   0.011552\n",
       "297 2021-06-16 -0.032352  -0.032510\n",
       "298 2021-06-17 -0.015733  -0.017551\n",
       "299 2021-06-18 -0.040148  -0.020258\n",
       "\n",
       "[300 rows x 3 columns]"
      ]
     },
     "execution_count": 123,
     "metadata": {},
     "output_type": "execute_result"
    }
   ],
   "source": [
    "df_final"
   ]
  },
  {
   "cell_type": "code",
   "execution_count": 124,
   "metadata": {
    "scrolled": true
   },
   "outputs": [
    {
     "name": "stdout",
     "output_type": "stream",
     "text": [
      "<class 'pandas.core.frame.DataFrame'>\n",
      "Int64Index: 300 entries, 0 to 299\n",
      "Data columns (total 3 columns):\n",
      " #   Column      Non-Null Count  Dtype         \n",
      "---  ------      --------------  -----         \n",
      " 0   trade_date  300 non-null    datetime64[ns]\n",
      " 1   狗狗币收益率      299 non-null    float64       \n",
      " 2   数字货币市场收益率   299 non-null    float64       \n",
      "dtypes: datetime64[ns](1), float64(2)\n",
      "memory usage: 9.4 KB\n"
     ]
    }
   ],
   "source": [
    "df_final.info()"
   ]
  },
  {
   "cell_type": "code",
   "execution_count": 125,
   "metadata": {},
   "outputs": [],
   "source": [
    "df_final = df_final.dropna()"
   ]
  },
  {
   "cell_type": "code",
   "execution_count": 126,
   "metadata": {},
   "outputs": [],
   "source": [
    "df_final = df_final.reset_index().drop(\"index\", axis=1)"
   ]
  },
  {
   "cell_type": "code",
   "execution_count": 127,
   "metadata": {},
   "outputs": [],
   "source": [
    "from sklearn.linear_model import LinearRegression\n",
    "def get_OLS(X, y, pre_X):\n",
    "    linear_m = LinearRegression().fit(X, y)\n",
    "    r_2 = linear_m.score(X, y)\n",
    "    print(f\"构建模型，R2为{round(r_2*100, 2)}%\")\n",
    "    print(f\"y = {round(linear_m.intercept_,3)} + {round(linear_m.coef_[0],3)}Rm \")\n",
    "    return linear_m.predict(pre_X)"
   ]
  },
  {
   "cell_type": "code",
   "execution_count": 131,
   "metadata": {
    "scrolled": true
   },
   "outputs": [],
   "source": [
    "def get_data(event):\n",
    "    print(\"事件日为: \", event)\n",
    "    q, h = df_final[df_final['trade_date'] == event].index[0] - 10, df_final[df_final['trade_date'] == event].index[0] + 10\n",
    "    target = df_final.loc[q:h].copy()\n",
    "    estimate_df = df_final.loc[q-90:q]\n",
    "    \n",
    "    X = estimate_df[['数字货币市场收益率']]\n",
    "    y = estimate_df['狗狗币收益率']\n",
    "    predict_X = target[['数字货币市场收益率']]\n",
    "    target['E(Rt)'] = get_OLS(X, y, predict_X)\n",
    "    target['ARt'] = target['狗狗币收益率'] - target['E(Rt)']\n",
    "    #对异常收益率进行t检验 判断是否显著异于0\n",
    "    pop_mean = 0\n",
    "    t,p_twoTail =stats.ttest_1samp(target['ARt'],pop_mean)\n",
    "    p_oneTail = p_twoTail/2\n",
    "    print(\"t=\",t,\"p_twoTail=\",p_twoTail, \"p_oneTail = \", p_oneTail)\n",
    "    alpha = 0.05\n",
    "    if (t<0 and p_oneTail < alpha):\n",
    "        print(\"拒绝零假设，有统计显著，也就是事件带来异常收益\")\n",
    "    else:\n",
    "        print(\"接受零假设，没有统计显著，也就是事件未带来异常收益\")\n",
    "    \n",
    "    target['CARt'] =  target['ARt'].cumsum()\n",
    "    print(target)\n",
    "    return target\n",
    "\n"
   ]
  },
  {
   "cell_type": "code",
   "execution_count": 135,
   "metadata": {},
   "outputs": [],
   "source": [
    "def main(e):\n",
    "    a = get_data(e)\n",
    "    a.set_index('trade_date')[['ARt', 'CARt']].plot(figsize=(13, 6))\n",
    "    plt.xlabel('Event Window')\n",
    "    plt.ylabel('比特币收益率')\n",
    "    plt.axhline(y=(np.sqrt((a['ARt'].std()**2/21))*1.96),color='red',linestyle='--')\n",
    "    plt.axhline(y=(np.sqrt((a['ARt'].std()**2/21))*-1.96),color='red',linestyle='--')"
   ]
  },
  {
   "cell_type": "code",
   "execution_count": 144,
   "metadata": {},
   "outputs": [],
   "source": [
    "def main(e):\n",
    "    for i in range(len(e)):\n",
    "        a = get_data(e[i])\n",
    "        j = i + 4\n",
    "        a.to_excel('狗狗币事件%s.xls' %j)\n",
    "        a.set_index('trade_date')[['ARt', 'CARt']].plot(figsize=(13, 6))\n",
    "        plt.ylim(-2,2)\n",
    "        plt.xlabel('Event %s'%j)\n",
    "        plt.ylabel('狗狗币收益率')\n",
    "    "
   ]
  },
  {
   "cell_type": "code",
   "execution_count": 145,
   "metadata": {},
   "outputs": [
    {
     "name": "stdout",
     "output_type": "stream",
     "text": [
      "事件日为:  2021-01-28\n",
      "构建模型，R2为22.24%\n",
      "y = 0.006 + 1.566Rm \n",
      "t= 1.1468609775773955 p_twoTail= 0.2649747833170701 p_oneTail =  0.13248739165853504\n",
      "接受零假设，没有统计显著，也就是事件未带来异常收益\n",
      "    trade_date    狗狗币收益率  数字货币市场收益率     E(Rt)       ARt      CARt\n",
      "147 2021-01-18  0.004408   0.019556  0.036210 -0.031802 -0.031802\n",
      "148 2021-01-19  0.020640   0.032356  0.056252 -0.035612 -0.067413\n",
      "149 2021-01-20 -0.054683  -0.046742 -0.067596  0.012912 -0.054501\n",
      "150 2021-01-21 -0.029559  -0.055464 -0.081253  0.051694 -0.002807\n",
      "151 2021-01-22 -0.047545  -0.046079 -0.066558  0.019013  0.016206\n",
      "152 2021-01-23  0.050594   0.043506  0.073710 -0.023116 -0.006910\n",
      "153 2021-01-24  0.016439   0.003463  0.011013  0.005426 -0.001484\n",
      "154 2021-01-25 -0.021439   0.046280  0.078053 -0.099493 -0.100977\n",
      "155 2021-01-26 -0.040763  -0.051518 -0.075075  0.034312 -0.066665\n",
      "156 2021-01-27 -0.056947  -0.030468 -0.042115 -0.014832 -0.081496\n",
      "157 2021-01-28  1.060428   0.034311  0.059313  1.001114  0.919618\n",
      "158 2021-01-29  0.975838   0.086108  0.140414  0.835424  1.755042\n",
      "159 2021-01-30 -0.485880  -0.026370 -0.035698 -0.450181  1.304860\n",
      "160 2021-01-31  0.042461  -0.009811 -0.009771  0.052232  1.357093\n",
      "161 2021-02-01  0.005726   0.012143  0.024604 -0.018877  1.338216\n",
      "162 2021-02-02 -0.179867   0.038164  0.065347 -0.245213  1.093002\n",
      "163 2021-02-03  0.096799   0.038860  0.066436  0.030363  1.123366\n",
      "164 2021-02-04  0.303875   0.042982  0.072890  0.230985  1.354350\n",
      "165 2021-02-05  0.019210   0.013765  0.027143 -0.007933  1.346417\n",
      "166 2021-02-06  0.057749   0.045605  0.076996 -0.019247  1.327170\n",
      "167 2021-02-07  0.307276  -0.027432 -0.037361  0.344637  1.671807\n",
      "事件日为:  2021-05-09\n",
      "构建模型，R2为11.04%\n",
      "y = 0.048 + 1.695Rm \n",
      "t= -1.2056720560418874 p_twoTail= 0.2420149635043392 p_oneTail =  0.1210074817521696\n",
      "接受零假设，没有统计显著，也就是事件未带来异常收益\n",
      "    trade_date    狗狗币收益率  数字货币市场收益率     E(Rt)       ARt      CARt\n",
      "248 2021-04-29  0.030101  -0.007963  0.034692 -0.004592 -0.004592\n",
      "249 2021-04-30  0.032591   0.031981  0.102414 -0.069823 -0.074415\n",
      "250 2021-05-01  0.121464   0.036731  0.110468  0.010995 -0.063420\n",
      "251 2021-05-02  0.049679  -0.002035  0.044742  0.004937 -0.058482\n",
      "252 2021-05-03  0.075515   0.030647  0.100152 -0.024637 -0.083120\n",
      "253 2021-05-04  0.206020  -0.017917  0.017815  0.188204  0.105084\n",
      "254 2021-05-05  0.183639   0.021083  0.083937  0.099702  0.204787\n",
      "255 2021-05-06 -0.006873   0.039312  0.114845 -0.121717  0.083069\n",
      "256 2021-05-07  0.036800  -0.001890  0.044988 -0.008188  0.074881\n",
      "257 2021-05-08  0.069353   0.021071  0.083917 -0.014565  0.060317\n",
      "258 2021-05-09 -0.182801  -0.003987  0.041432 -0.224233 -0.163917\n",
      "259 2021-05-10 -0.118832  -0.014118  0.024256 -0.143088 -0.307004\n",
      "260 2021-05-11  0.000363  -0.007621  0.035271 -0.034908 -0.341912\n",
      "261 2021-05-12 -0.092256   0.006237  0.058767 -0.151023 -0.492935\n",
      "262 2021-05-13 -0.036532  -0.077102 -0.082531  0.045999 -0.446936\n",
      "263 2021-05-14  0.190131   0.050219  0.133336  0.056795 -0.390141\n",
      "264 2021-05-15  0.000019  -0.016977  0.019408 -0.019389 -0.409531\n",
      "265 2021-05-16 -0.053826  -0.039104 -0.018106 -0.035719 -0.445250\n",
      "266 2021-05-17 -0.027556  -0.058505 -0.051000  0.023444 -0.421806\n",
      "267 2021-05-18  0.011704   0.007306  0.060579 -0.048875 -0.470681\n",
      "268 2021-05-19 -0.353372  -0.223225 -0.330276 -0.023096 -0.493778\n"
     ]
    },
    {
     "data": {
      "image/png": "[encoded data removed]",
      "text/plain": [
       "<Figure size 936x432 with 1 Axes>"
      ]
     },
     "metadata": {},
     "output_type": "display_data"
    },
    {
     "data": {
      "image/png": "[encoded data removed]",
      "text/plain": [
       "<Figure size 936x432 with 1 Axes>"
      ]
     },
     "metadata": {},
     "output_type": "display_data"
    }
   ],
   "source": [
    "main(events)"
   ]
  },
  {
   "cell_type": "code",
   "execution_count": 139,
   "metadata": {
    "scrolled": false
   },
   "outputs": [
    {
     "name": "stdout",
     "output_type": "stream",
     "text": [
      "事件日为:  2021-01-28\n",
      "构建模型，R2为22.24%\n",
      "y = 0.006 + 1.566Rm \n",
      "t= 1.1468609775773955 p_twoTail= 0.2649747833170701 p_oneTail =  0.13248739165853504\n",
      "接受零假设，没有统计显著，也就是事件未带来异常收益\n",
      "    trade_date    狗狗币收益率  数字货币市场收益率     E(Rt)       ARt      CARt\n",
      "147 2021-01-18  0.004408   0.019556  0.036210 -0.031802 -0.031802\n",
      "148 2021-01-19  0.020640   0.032356  0.056252 -0.035612 -0.067413\n",
      "149 2021-01-20 -0.054683  -0.046742 -0.067596  0.012912 -0.054501\n",
      "150 2021-01-21 -0.029559  -0.055464 -0.081253  0.051694 -0.002807\n",
      "151 2021-01-22 -0.047545  -0.046079 -0.066558  0.019013  0.016206\n",
      "152 2021-01-23  0.050594   0.043506  0.073710 -0.023116 -0.006910\n",
      "153 2021-01-24  0.016439   0.003463  0.011013  0.005426 -0.001484\n",
      "154 2021-01-25 -0.021439   0.046280  0.078053 -0.099493 -0.100977\n",
      "155 2021-01-26 -0.040763  -0.051518 -0.075075  0.034312 -0.066665\n",
      "156 2021-01-27 -0.056947  -0.030468 -0.042115 -0.014832 -0.081496\n",
      "157 2021-01-28  1.060428   0.034311  0.059313  1.001114  0.919618\n",
      "158 2021-01-29  0.975838   0.086108  0.140414  0.835424  1.755042\n",
      "159 2021-01-30 -0.485880  -0.026370 -0.035698 -0.450181  1.304860\n",
      "160 2021-01-31  0.042461  -0.009811 -0.009771  0.052232  1.357093\n",
      "161 2021-02-01  0.005726   0.012143  0.024604 -0.018877  1.338216\n",
      "162 2021-02-02 -0.179867   0.038164  0.065347 -0.245213  1.093002\n",
      "163 2021-02-03  0.096799   0.038860  0.066436  0.030363  1.123366\n",
      "164 2021-02-04  0.303875   0.042982  0.072890  0.230985  1.354350\n",
      "165 2021-02-05  0.019210   0.013765  0.027143 -0.007933  1.346417\n",
      "166 2021-02-06  0.057749   0.045605  0.076996 -0.019247  1.327170\n",
      "167 2021-02-07  0.307276  -0.027432 -0.037361  0.344637  1.671807\n"
     ]
    }
   ],
   "source": [
    "a = get_data(events[0])"
   ]
  },
  {
   "cell_type": "markdown",
   "metadata": {},
   "source": [
    "# 进行T检验"
   ]
  },
  {
   "cell_type": "code",
   "execution_count": 18,
   "metadata": {},
   "outputs": [
    {
     "name": "stdout",
     "output_type": "stream",
     "text": [
      "Requirement already satisfied: scipy in e:\\anaconda3\\lib\\site-packages (1.5.2)\n",
      "Requirement already satisfied: numpy in e:\\anaconda3\\lib\\site-packages (1.19.2)\n"
     ]
    }
   ],
   "source": [
    "!pip install scipy numpy\n",
    "from scipy import stats"
   ]
  },
  {
   "cell_type": "code",
   "execution_count": 19,
   "metadata": {},
   "outputs": [
    {
     "data": {
      "text/plain": [
       "Ttest_1sampResult(statistic=-0.36762428101372113, pvalue=0.7170150563073734)"
      ]
     },
     "execution_count": 19,
     "metadata": {},
     "output_type": "execute_result"
    }
   ],
   "source": [
    "stats.ttest_1samp(a['ARt'],0)"
   ]
  },
  {
   "cell_type": "code",
   "execution_count": 20,
   "metadata": {},
   "outputs": [
    {
     "data": {
      "text/plain": [
       "152   -0.012876\n",
       "153   -0.026823\n",
       "154   -0.012969\n",
       "155   -0.008621\n",
       "156    0.005610\n",
       "157    0.004555\n",
       "158   -0.000488\n",
       "159   -0.003011\n",
       "160   -0.009436\n",
       "161   -0.043705\n",
       "162   -0.011904\n",
       "163   -0.024133\n",
       "164   -0.012422\n",
       "165    0.000538\n",
       "166    0.003227\n",
       "167   -0.011857\n",
       "168    0.036648\n",
       "169    0.029883\n",
       "170    0.002481\n",
       "171    0.033469\n",
       "172    0.027549\n",
       "Name: ARt, dtype: float64"
      ]
     },
     "execution_count": 20,
     "metadata": {},
     "output_type": "execute_result"
    }
   ],
   "source": [
    "a['ARt']"
   ]
  },
  {
   "cell_type": "code",
   "execution_count": null,
   "metadata": {},
   "outputs": [],
   "source": []
  }
 ],
 "metadata": {
  "kernelspec": {
   "display_name": "Python 3",
   "language": "python",
   "name": "python3"
  },
  "language_info": {
   "codemirror_mode": {
    "name": "ipython",
    "version": 3
   },
   "file_extension": ".py",
   "mimetype": "text/x-python",
   "name": "python",
   "nbconvert_exporter": "python",
   "pygments_lexer": "ipython3",
   "version": "3.8.5"
  }
 },
 "nbformat": 4,
 "nbformat_minor": 4
}
